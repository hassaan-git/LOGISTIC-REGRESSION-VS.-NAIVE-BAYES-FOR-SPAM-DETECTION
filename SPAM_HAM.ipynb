{
  "nbformat": 4,
  "nbformat_minor": 0,
  "metadata": {
    "colab": {
      "provenance": [],
      "collapsed_sections": [
        "OW4mQYIZMxdL",
        "oYHDmloyNgKL",
        "-3wB7Eo7Nn23",
        "AR2sIKQrOA4y",
        "Tp9eKIePPmx0",
        "9bYNs2T6PuiA",
        "GIpdG2-8P4ti",
        "_mLf3s2FQBHZ",
        "v5MJ54V7TRq2",
        "b2gQUjczToOB",
        "pHFRlAgDTuec",
        "7DBOptgcT0DH",
        "t0DN-do1T5dB",
        "7KJid4PXW55Z",
        "rgjOApjsW9qA"
      ]
    },
    "kernelspec": {
      "name": "python3",
      "display_name": "Python 3"
    },
    "language_info": {
      "name": "python"
    }
  },
  "cells": [
    {
      "cell_type": "markdown",
      "source": [
        "#METHOD___1\n",
        "\n",
        "---\n",
        "\n"
      ],
      "metadata": {
        "id": "8HxcuFFSQ-2-"
      }
    },
    {
      "cell_type": "markdown",
      "source": [
        "##importing libraries and loading dataset"
      ],
      "metadata": {
        "id": "OW4mQYIZMxdL"
      }
    },
    {
      "cell_type": "code",
      "execution_count": 79,
      "metadata": {
        "id": "ZXXadUvHiVUM",
        "colab": {
          "base_uri": "https://localhost:8080/"
        },
        "outputId": "9a1cca98-bb9c-46ae-e72d-bb314f430fcb"
      },
      "outputs": [
        {
          "output_type": "stream",
          "name": "stdout",
          "text": [
            "     v1  \\\n",
            "0   ham   \n",
            "1   ham   \n",
            "2  spam   \n",
            "3   ham   \n",
            "4   ham   \n",
            "5  spam   \n",
            "\n",
            "                                                                                                                                                            v2  \\\n",
            "0                                              Go until jurong point, crazy.. Available only in bugis n great world la e buffet... Cine there got amore wat...   \n",
            "1                                                                                                                                Ok lar... Joking wif u oni...   \n",
            "2  Free entry in 2 a wkly comp to win FA Cup final tkts 21st May 2005. Text FA to 87121 to receive entry question(std txt rate)T&C's apply 08452810075over18's   \n",
            "3                                                                                                            U dun say so early hor... U c already then say...   \n",
            "4                                                                                                Nah I don't think he goes to usf, he lives around here though   \n",
            "5         FreeMsg Hey there darling it's been 3 week's now and no word back! I'd like some fun you up for it still? Tb ok! XxX std chgs to send, å£1.50 to rcv   \n",
            "\n",
            "  Unnamed: 2 Unnamed: 3 Unnamed: 4  \n",
            "0        NaN        NaN        NaN  \n",
            "1        NaN        NaN        NaN  \n",
            "2        NaN        NaN        NaN  \n",
            "3        NaN        NaN        NaN  \n",
            "4        NaN        NaN        NaN  \n",
            "5        NaN        NaN        NaN  \n"
          ]
        }
      ],
      "source": [
        "import pandas as pd\n",
        "import numpy as np\n",
        "import matplotlib.pyplot as plt\n",
        "from sklearn.model_selection import train_test_split\n",
        "from sklearn.feature_extraction.text import TfidfVectorizer\n",
        "from sklearn.linear_model import LogisticRegression\n",
        "from sklearn.metrics import accuracy_score\n",
        "from sklearn.metrics import confusion_matrix, ConfusionMatrixDisplay, classification_report\n",
        "import seaborn as sns\n",
        "\n",
        "pd.set_option('display.max_colwidth', None)\n",
        "df = pd.read_csv(\"spam.csv\", encoding='latin1')\n",
        "print(df.head(6))"
      ]
    },
    {
      "cell_type": "code",
      "source": [
        "print(df['v2'])"
      ],
      "metadata": {
        "id": "D2LyC_RapUGa",
        "colab": {
          "base_uri": "https://localhost:8080/"
        },
        "outputId": "21e7871c-892e-44da-9b7e-a42646bff18b"
      },
      "execution_count": 80,
      "outputs": [
        {
          "output_type": "stream",
          "name": "stdout",
          "text": [
            "0                                                         Go until jurong point, crazy.. Available only in bugis n great world la e buffet... Cine there got amore wat...\n",
            "1                                                                                                                                           Ok lar... Joking wif u oni...\n",
            "2             Free entry in 2 a wkly comp to win FA Cup final tkts 21st May 2005. Text FA to 87121 to receive entry question(std txt rate)T&C's apply 08452810075over18's\n",
            "3                                                                                                                       U dun say so early hor... U c already then say...\n",
            "4                                                                                                           Nah I don't think he goes to usf, he lives around here though\n",
            "                                                                                      ...                                                                                \n",
            "5567    This is the 2nd time we have tried 2 contact u. U have won the å£750 Pound prize. 2 claim is easy, call 087187272008 NOW1! Only 10p per minute. BT-national-rate.\n",
            "5568                                                                                                                                Will Ì_ b going to esplanade fr home?\n",
            "5569                                                                                                            Pity, * was in mood for that. So...any other suggestions?\n",
            "5570                                        The guy did some bitching but I acted like i'd be interested in buying something else next week and he gave it to us for free\n",
            "5571                                                                                                                                           Rofl. Its true to its name\n",
            "Name: v2, Length: 5572, dtype: object\n"
          ]
        }
      ]
    },
    {
      "cell_type": "markdown",
      "source": [
        "##Data-Preprocessing"
      ],
      "metadata": {
        "id": "oYHDmloyNgKL"
      }
    },
    {
      "cell_type": "code",
      "source": [
        "#renaming the columns\n",
        "df = df.rename(columns={\"v1\": \"label\", \"v2\": \"text\"})"
      ],
      "metadata": {
        "id": "-VyTio3vAip1"
      },
      "execution_count": 81,
      "outputs": []
    },
    {
      "cell_type": "code",
      "source": [
        "# Assuming 'df' is your DataFrame and you want the first two columns\n",
        "dff = df[df.columns[0:2]]  # Select the first two columns of the DataFrame\n",
        "print(dff.head(5))"
      ],
      "metadata": {
        "id": "L5Eu6mmVs91D",
        "colab": {
          "base_uri": "https://localhost:8080/"
        },
        "outputId": "75ab1d45-cc14-40f4-ced9-daab657ec75c"
      },
      "execution_count": 82,
      "outputs": [
        {
          "output_type": "stream",
          "name": "stdout",
          "text": [
            "  label  \\\n",
            "0   ham   \n",
            "1   ham   \n",
            "2  spam   \n",
            "3   ham   \n",
            "4   ham   \n",
            "\n",
            "                                                                                                                                                          text  \n",
            "0                                              Go until jurong point, crazy.. Available only in bugis n great world la e buffet... Cine there got amore wat...  \n",
            "1                                                                                                                                Ok lar... Joking wif u oni...  \n",
            "2  Free entry in 2 a wkly comp to win FA Cup final tkts 21st May 2005. Text FA to 87121 to receive entry question(std txt rate)T&C's apply 08452810075over18's  \n",
            "3                                                                                                            U dun say so early hor... U c already then say...  \n",
            "4                                                                                                Nah I don't think he goes to usf, he lives around here though  \n"
          ]
        }
      ]
    },
    {
      "cell_type": "code",
      "source": [
        "rows, columns = dff.shape\n",
        "print(f\"The dataset has {rows} rows and {columns} columns.\")"
      ],
      "metadata": {
        "id": "8c-3t_gzpLgH",
        "colab": {
          "base_uri": "https://localhost:8080/"
        },
        "outputId": "b955bb14-cbf7-43c2-fa85-149679057bea"
      },
      "execution_count": 83,
      "outputs": [
        {
          "output_type": "stream",
          "name": "stdout",
          "text": [
            "The dataset has 5572 rows and 2 columns.\n"
          ]
        }
      ]
    },
    {
      "cell_type": "code",
      "source": [
        "\n",
        "import re\n",
        "# Using .loc to avoid SettingWithCopyWarning\n",
        "dff.loc[:, 'text'] = dff['text'].str.lower()  # Convert to lowercase\n",
        "dff.loc[:, 'text'] = dff['text'].apply(lambda x: re.sub(r'\\W', ' ', x))  # Remove non-word characters\n"
      ],
      "metadata": {
        "id": "F1IRM2GWu8a9"
      },
      "execution_count": 84,
      "outputs": []
    },
    {
      "cell_type": "code",
      "source": [
        "print(dff['text'])"
      ],
      "metadata": {
        "id": "8Xj-NFrLxCWU",
        "colab": {
          "base_uri": "https://localhost:8080/"
        },
        "outputId": "cd810b15-0bcf-470f-adb0-7f82c0951ea9"
      },
      "execution_count": 85,
      "outputs": [
        {
          "output_type": "stream",
          "name": "stdout",
          "text": [
            "0                                                         go until jurong point  crazy   available only in bugis n great world la e buffet    cine there got amore wat   \n",
            "1                                                                                                                                           ok lar    joking wif u oni   \n",
            "2             free entry in 2 a wkly comp to win fa cup final tkts 21st may 2005  text fa to 87121 to receive entry question std txt rate t c s apply 08452810075over18 s\n",
            "3                                                                                                                       u dun say so early hor    u c already then say   \n",
            "4                                                                                                           nah i don t think he goes to usf  he lives around here though\n",
            "                                                                                      ...                                                                                \n",
            "5567    this is the 2nd time we have tried 2 contact u  u have won the å 750 pound prize  2 claim is easy  call 087187272008 now1  only 10p per minute  bt national rate \n",
            "5568                                                                                                                                will ì_ b going to esplanade fr home \n",
            "5569                                                                                                            pity    was in mood for that  so   any other suggestions \n",
            "5570                                        the guy did some bitching but i acted like i d be interested in buying something else next week and he gave it to us for free\n",
            "5571                                                                                                                                           rofl  its true to its name\n",
            "Name: text, Length: 5572, dtype: object\n"
          ]
        }
      ]
    },
    {
      "cell_type": "code",
      "source": [
        "dff.isnull().sum()  # Check for missing values"
      ],
      "metadata": {
        "id": "OMBF20fjI4rF",
        "colab": {
          "base_uri": "https://localhost:8080/",
          "height": 0
        },
        "outputId": "05bb4d02-7f56-4959-df75-72800e067ee8"
      },
      "execution_count": 86,
      "outputs": [
        {
          "output_type": "execute_result",
          "data": {
            "text/plain": [
              "label    0\n",
              "text     0\n",
              "dtype: int64"
            ],
            "text/html": [
              "<div>\n",
              "<style scoped>\n",
              "    .dataframe tbody tr th:only-of-type {\n",
              "        vertical-align: middle;\n",
              "    }\n",
              "\n",
              "    .dataframe tbody tr th {\n",
              "        vertical-align: top;\n",
              "    }\n",
              "\n",
              "    .dataframe thead th {\n",
              "        text-align: right;\n",
              "    }\n",
              "</style>\n",
              "<table border=\"1\" class=\"dataframe\">\n",
              "  <thead>\n",
              "    <tr style=\"text-align: right;\">\n",
              "      <th></th>\n",
              "      <th>0</th>\n",
              "    </tr>\n",
              "  </thead>\n",
              "  <tbody>\n",
              "    <tr>\n",
              "      <th>label</th>\n",
              "      <td>0</td>\n",
              "    </tr>\n",
              "    <tr>\n",
              "      <th>text</th>\n",
              "      <td>0</td>\n",
              "    </tr>\n",
              "  </tbody>\n",
              "</table>\n",
              "</div><br><label><b>dtype:</b> int64</label>"
            ]
          },
          "metadata": {},
          "execution_count": 86
        }
      ]
    },
    {
      "cell_type": "code",
      "source": [
        "dff['label'] = dff['label'].replace({'spam': 1, 'ham': 0})"
      ],
      "metadata": {
        "id": "LhQRC2Zy0onp",
        "colab": {
          "base_uri": "https://localhost:8080/"
        },
        "outputId": "8991848d-42bc-45ae-9a0b-6057157334f6"
      },
      "execution_count": 87,
      "outputs": [
        {
          "output_type": "stream",
          "name": "stderr",
          "text": [
            "<ipython-input-87-23cf828c79a0>:1: SettingWithCopyWarning: \n",
            "A value is trying to be set on a copy of a slice from a DataFrame.\n",
            "Try using .loc[row_indexer,col_indexer] = value instead\n",
            "\n",
            "See the caveats in the documentation: https://pandas.pydata.org/pandas-docs/stable/user_guide/indexing.html#returning-a-view-versus-a-copy\n",
            "  dff['label'] = dff['label'].replace({'spam': 1, 'ham': 0})\n"
          ]
        }
      ]
    },
    {
      "cell_type": "code",
      "source": [
        "print(dff.head())\n",
        "print(dff.info())"
      ],
      "metadata": {
        "id": "JdxzJ3h1Itoq",
        "colab": {
          "base_uri": "https://localhost:8080/"
        },
        "outputId": "5ab6bd72-7992-405e-a1cb-33e4461c17dc"
      },
      "execution_count": 88,
      "outputs": [
        {
          "output_type": "stream",
          "name": "stdout",
          "text": [
            "   label  \\\n",
            "0      0   \n",
            "1      0   \n",
            "2      1   \n",
            "3      0   \n",
            "4      0   \n",
            "\n",
            "                                                                                                                                                          text  \n",
            "0                                              go until jurong point  crazy   available only in bugis n great world la e buffet    cine there got amore wat     \n",
            "1                                                                                                                                ok lar    joking wif u oni     \n",
            "2  free entry in 2 a wkly comp to win fa cup final tkts 21st may 2005  text fa to 87121 to receive entry question std txt rate t c s apply 08452810075over18 s  \n",
            "3                                                                                                            u dun say so early hor    u c already then say     \n",
            "4                                                                                                nah i don t think he goes to usf  he lives around here though  \n",
            "<class 'pandas.core.frame.DataFrame'>\n",
            "RangeIndex: 5572 entries, 0 to 5571\n",
            "Data columns (total 2 columns):\n",
            " #   Column  Non-Null Count  Dtype \n",
            "---  ------  --------------  ----- \n",
            " 0   label   5572 non-null   int64 \n",
            " 1   text    5572 non-null   object\n",
            "dtypes: int64(1), object(1)\n",
            "memory usage: 87.2+ KB\n",
            "None\n"
          ]
        }
      ]
    },
    {
      "cell_type": "markdown",
      "source": [
        "##Graphs to visualize"
      ],
      "metadata": {
        "id": "-3wB7Eo7Nn23"
      }
    },
    {
      "cell_type": "code",
      "source": [
        "#visualizing the relation between the number of spam and ham mails\n",
        "label_counts = dff['label'].value_counts()\n",
        "\n",
        "# Plot the graph\n",
        "plt.figure(figsize=(8, 5))\n",
        "bars=label_counts.plot(kind='bar', color=['blue', 'red'])\n",
        "# Adding the count on top of each bar\n",
        "for bar in bars.patches:\n",
        "    height = bar.get_height()\n",
        "    plt.text(\n",
        "        bar.get_x() + bar.get_width() / 2, height,  # X and Y position\n",
        "        f'{int(height)}',  # Text to display\n",
        "        ha='center', va='bottom'  # Horizontal and vertical alignment\n",
        "    )\n",
        "plt.xlabel('Email Type')\n",
        "plt.ylabel('Number of Emails')\n",
        "plt.title('Number of Spam and Ham Emails')\n",
        "plt.xticks(rotation=0)  # Rotate x-axis labels for better readability\n",
        "plt.show()"
      ],
      "metadata": {
        "id": "e9-5wd3EG-cU",
        "colab": {
          "base_uri": "https://localhost:8080/",
          "height": 0
        },
        "outputId": "54bdb037-8d08-4c43-c85c-d83264619eef"
      },
      "execution_count": 89,
      "outputs": [
        {
          "output_type": "display_data",
          "data": {
            "text/plain": [
              "<Figure size 800x500 with 1 Axes>"
            ],
            "image/png": "[encoded data removed]"
          },
          "metadata": {}
        }
      ]
    },
    {
      "cell_type": "code",
      "source": [
        "dff_sub=dff.head(30)\n",
        "dff_sub['word_count'] = dff_sub['text'].apply(lambda x: len(x.split()))"
      ],
      "metadata": {
        "id": "-LtIMTBhALeC",
        "colab": {
          "base_uri": "https://localhost:8080/"
        },
        "outputId": "2843b538-8e60-4543-bfb7-c49c2665c056"
      },
      "execution_count": 90,
      "outputs": [
        {
          "output_type": "stream",
          "name": "stderr",
          "text": [
            "<ipython-input-90-f39ac3696194>:2: SettingWithCopyWarning: \n",
            "A value is trying to be set on a copy of a slice from a DataFrame.\n",
            "Try using .loc[row_indexer,col_indexer] = value instead\n",
            "\n",
            "See the caveats in the documentation: https://pandas.pydata.org/pandas-docs/stable/user_guide/indexing.html#returning-a-view-versus-a-copy\n",
            "  dff_sub['word_count'] = dff_sub['text'].apply(lambda x: len(x.split()))\n"
          ]
        }
      ]
    },
    {
      "cell_type": "code",
      "source": [
        "plt.figure(figsize=(10, 6))\n",
        "plt.bar(dff_sub['label'], dff_sub['word_count'], color='blue')\n",
        "plt.xlabel('Label (Spam/Ham)')\n",
        "plt.ylabel('Number of Words')\n",
        "plt.title('Number of Words in Texts (First 30 Rows)')\n",
        "plt.show()"
      ],
      "metadata": {
        "id": "ry7if37fANei",
        "colab": {
          "base_uri": "https://localhost:8080/",
          "height": 0
        },
        "outputId": "f3da8d55-2a59-454a-8d70-2fae88beae8c"
      },
      "execution_count": 91,
      "outputs": [
        {
          "output_type": "display_data",
          "data": {
            "text/plain": [
              "<Figure size 1000x600 with 1 Axes>"
            ],
            "image/png": "[encoded data removed]"
          },
          "metadata": {}
        }
      ]
    },
    {
      "cell_type": "code",
      "source": [
        "dff.head()"
      ],
      "metadata": {
        "id": "BWjmGGqf04Gq",
        "colab": {
          "base_uri": "https://localhost:8080/",
          "height": 0
        },
        "outputId": "4a9da4da-d3c0-47a2-f491-6cfb591be1f2"
      },
      "execution_count": 92,
      "outputs": [
        {
          "output_type": "execute_result",
          "data": {
            "text/plain": [
              "   label  \\\n",
              "0      0   \n",
              "1      0   \n",
              "2      1   \n",
              "3      0   \n",
              "4      0   \n",
              "\n",
              "                                                                                                                                                          text  \n",
              "0                                              go until jurong point  crazy   available only in bugis n great world la e buffet    cine there got amore wat     \n",
              "1                                                                                                                                ok lar    joking wif u oni     \n",
              "2  free entry in 2 a wkly comp to win fa cup final tkts 21st may 2005  text fa to 87121 to receive entry question std txt rate t c s apply 08452810075over18 s  \n",
              "3                                                                                                            u dun say so early hor    u c already then say     \n",
              "4                                                                                                nah i don t think he goes to usf  he lives around here though  "
            ],
            "text/html": [
              "\n",
              "  <div id=\"df-b8afdbc3-31b1-4529-acc4-734ec3fa6380\" class=\"colab-df-container\">\n",
              "    <div>\n",
              "<style scoped>\n",
              "    .dataframe tbody tr th:only-of-type {\n",
              "        vertical-align: middle;\n",
              "    }\n",
              "\n",
              "    .dataframe tbody tr th {\n",
              "        vertical-align: top;\n",
              "    }\n",
              "\n",
              "    .dataframe thead th {\n",
              "        text-align: right;\n",
              "    }\n",
              "</style>\n",
              "<table border=\"1\" class=\"dataframe\">\n",
              "  <thead>\n",
              "    <tr style=\"text-align: right;\">\n",
              "      <th></th>\n",
              "      <th>label</th>\n",
              "      <th>text</th>\n",
              "    </tr>\n",
              "  </thead>\n",
              "  <tbody>\n",
              "    <tr>\n",
              "      <th>0</th>\n",
              "      <td>0</td>\n",
              "      <td>go until jurong point  crazy   available only in bugis n great world la e buffet    cine there got amore wat</td>\n",
              "    </tr>\n",
              "    <tr>\n",
              "      <th>1</th>\n",
              "      <td>0</td>\n",
              "      <td>ok lar    joking wif u oni</td>\n",
              "    </tr>\n",
              "    <tr>\n",
              "      <th>2</th>\n",
              "      <td>1</td>\n",
              "      <td>free entry in 2 a wkly comp to win fa cup final tkts 21st may 2005  text fa to 87121 to receive entry question std txt rate t c s apply 08452810075over18 s</td>\n",
              "    </tr>\n",
              "    <tr>\n",
              "      <th>3</th>\n",
              "      <td>0</td>\n",
              "      <td>u dun say so early hor    u c already then say</td>\n",
              "    </tr>\n",
              "    <tr>\n",
              "      <th>4</th>\n",
              "      <td>0</td>\n",
              "      <td>nah i don t think he goes to usf  he lives around here though</td>\n",
              "    </tr>\n",
              "  </tbody>\n",
              "</table>\n",
              "</div>\n",
              "    <div class=\"colab-df-buttons\">\n",
              "\n",
              "  <div class=\"colab-df-container\">\n",
              "    <button class=\"colab-df-convert\" onclick=\"convertToInteractive('df-b8afdbc3-31b1-4529-acc4-734ec3fa6380')\"\n",
              "            title=\"Convert this dataframe to an interactive table.\"\n",
              "            style=\"display:none;\">\n",
              "\n",
              "  <svg xmlns=\"http://www.w3.org/2000/svg\" height=\"24px\" viewBox=\"0 -960 960 960\">\n",
              "    <path d=\"M120-120v-720h720v720H120Zm60-500h600v-160H180v160Zm220 220h160v-160H400v160Zm0 220h160v-160H400v160ZM180-400h160v-160H180v160Zm440 0h160v-160H620v160ZM180-180h160v-160H180v160Zm440 0h160v-160H620v160Z\"/>\n",
              "  </svg>\n",
              "    </button>\n",
              "\n",
              "  <style>\n",
              "    .colab-df-container {\n",
              "      display:flex;\n",
              "      gap: 12px;\n",
              "    }\n",
              "\n",
              "    .colab-df-convert {\n",
              "      background-color: #E8F0FE;\n",
              "      border: none;\n",
              "      border-radius: 50%;\n",
              "      cursor: pointer;\n",
              "      display: none;\n",
              "      fill: #1967D2;\n",
              "      height: 32px;\n",
              "      padding: 0 0 0 0;\n",
              "      width: 32px;\n",
              "    }\n",
              "\n",
              "    .colab-df-convert:hover {\n",
              "      background-color: #E2EBFA;\n",
              "      box-shadow: 0px 1px 2px rgba(60, 64, 67, 0.3), 0px 1px 3px 1px rgba(60, 64, 67, 0.15);\n",
              "      fill: #174EA6;\n",
              "    }\n",
              "\n",
              "    .colab-df-buttons div {\n",
              "      margin-bottom: 4px;\n",
              "    }\n",
              "\n",
              "    [theme=dark] .colab-df-convert {\n",
              "      background-color: #3B4455;\n",
              "      fill: #D2E3FC;\n",
              "    }\n",
              "\n",
              "    [theme=dark] .colab-df-convert:hover {\n",
              "      background-color: #434B5C;\n",
              "      box-shadow: 0px 1px 3px 1px rgba(0, 0, 0, 0.15);\n",
              "      filter: drop-shadow(0px 1px 2px rgba(0, 0, 0, 0.3));\n",
              "      fill: #FFFFFF;\n",
              "    }\n",
              "  </style>\n",
              "\n",
              "    <script>\n",
              "      const buttonEl =\n",
              "        document.querySelector('#df-b8afdbc3-31b1-4529-acc4-734ec3fa6380 button.colab-df-convert');\n",
              "      buttonEl.style.display =\n",
              "        google.colab.kernel.accessAllowed ? 'block' : 'none';\n",
              "\n",
              "      async function convertToInteractive(key) {\n",
              "        const element = document.querySelector('#df-b8afdbc3-31b1-4529-acc4-734ec3fa6380');\n",
              "        const dataTable =\n",
              "          await google.colab.kernel.invokeFunction('convertToInteractive',\n",
              "                                                    [key], {});\n",
              "        if (!dataTable) return;\n",
              "\n",
              "        const docLinkHtml = 'Like what you see? Visit the ' +\n",
              "          '<a target=\"_blank\" href=https://colab.research.google.com/notebooks/data_table.ipynb>data table notebook</a>'\n",
              "          + ' to learn more about interactive tables.';\n",
              "        element.innerHTML = '';\n",
              "        dataTable['output_type'] = 'display_data';\n",
              "        await google.colab.output.renderOutput(dataTable, element);\n",
              "        const docLink = document.createElement('div');\n",
              "        docLink.innerHTML = docLinkHtml;\n",
              "        element.appendChild(docLink);\n",
              "      }\n",
              "    </script>\n",
              "  </div>\n",
              "\n",
              "\n",
              "<div id=\"df-de515d7a-556a-4075-8faf-bf3019cd4b9c\">\n",
              "  <button class=\"colab-df-quickchart\" onclick=\"quickchart('df-de515d7a-556a-4075-8faf-bf3019cd4b9c')\"\n",
              "            title=\"Suggest charts\"\n",
              "            style=\"display:none;\">\n",
              "\n",
              "<svg xmlns=\"http://www.w3.org/2000/svg\" height=\"24px\"viewBox=\"0 0 24 24\"\n",
              "     width=\"24px\">\n",
              "    <g>\n",
              "        <path d=\"M19 3H5c-1.1 0-2 .9-2 2v14c0 1.1.9 2 2 2h14c1.1 0 2-.9 2-2V5c0-1.1-.9-2-2-2zM9 17H7v-7h2v7zm4 0h-2V7h2v10zm4 0h-2v-4h2v4z\"/>\n",
              "    </g>\n",
              "</svg>\n",
              "  </button>\n",
              "\n",
              "<style>\n",
              "  .colab-df-quickchart {\n",
              "      --bg-color: #E8F0FE;\n",
              "      --fill-color: #1967D2;\n",
              "      --hover-bg-color: #E2EBFA;\n",
              "      --hover-fill-color: #174EA6;\n",
              "      --disabled-fill-color: #AAA;\n",
              "      --disabled-bg-color: #DDD;\n",
              "  }\n",
              "\n",
              "  [theme=dark] .colab-df-quickchart {\n",
              "      --bg-color: #3B4455;\n",
              "      --fill-color: #D2E3FC;\n",
              "      --hover-bg-color: #434B5C;\n",
              "      --hover-fill-color: #FFFFFF;\n",
              "      --disabled-bg-color: #3B4455;\n",
              "      --disabled-fill-color: #666;\n",
              "  }\n",
              "\n",
              "  .colab-df-quickchart {\n",
              "    background-color: var(--bg-color);\n",
              "    border: none;\n",
              "    border-radius: 50%;\n",
              "    cursor: pointer;\n",
              "    display: none;\n",
              "    fill: var(--fill-color);\n",
              "    height: 32px;\n",
              "    padding: 0;\n",
              "    width: 32px;\n",
              "  }\n",
              "\n",
              "  .colab-df-quickchart:hover {\n",
              "    background-color: var(--hover-bg-color);\n",
              "    box-shadow: 0 1px 2px rgba(60, 64, 67, 0.3), 0 1px 3px 1px rgba(60, 64, 67, 0.15);\n",
              "    fill: var(--button-hover-fill-color);\n",
              "  }\n",
              "\n",
              "  .colab-df-quickchart-complete:disabled,\n",
              "  .colab-df-quickchart-complete:disabled:hover {\n",
              "    background-color: var(--disabled-bg-color);\n",
              "    fill: var(--disabled-fill-color);\n",
              "    box-shadow: none;\n",
              "  }\n",
              "\n",
              "  .colab-df-spinner {\n",
              "    border: 2px solid var(--fill-color);\n",
              "    border-color: transparent;\n",
              "    border-bottom-color: var(--fill-color);\n",
              "    animation:\n",
              "      spin 1s steps(1) infinite;\n",
              "  }\n",
              "\n",
              "  @keyframes spin {\n",
              "    0% {\n",
              "      border-color: transparent;\n",
              "      border-bottom-color: var(--fill-color);\n",
              "      border-left-color: var(--fill-color);\n",
              "    }\n",
              "    20% {\n",
              "      border-color: transparent;\n",
              "      border-left-color: var(--fill-color);\n",
              "      border-top-color: var(--fill-color);\n",
              "    }\n",
              "    30% {\n",
              "      border-color: transparent;\n",
              "      border-left-color: var(--fill-color);\n",
              "      border-top-color: var(--fill-color);\n",
              "      border-right-color: var(--fill-color);\n",
              "    }\n",
              "    40% {\n",
              "      border-color: transparent;\n",
              "      border-right-color: var(--fill-color);\n",
              "      border-top-color: var(--fill-color);\n",
              "    }\n",
              "    60% {\n",
              "      border-color: transparent;\n",
              "      border-right-color: var(--fill-color);\n",
              "    }\n",
              "    80% {\n",
              "      border-color: transparent;\n",
              "      border-right-color: var(--fill-color);\n",
              "      border-bottom-color: var(--fill-color);\n",
              "    }\n",
              "    90% {\n",
              "      border-color: transparent;\n",
              "      border-bottom-color: var(--fill-color);\n",
              "    }\n",
              "  }\n",
              "</style>\n",
              "\n",
              "  <script>\n",
              "    async function quickchart(key) {\n",
              "      const quickchartButtonEl =\n",
              "        document.querySelector('#' + key + ' button');\n",
              "      quickchartButtonEl.disabled = true;  // To prevent multiple clicks.\n",
              "      quickchartButtonEl.classList.add('colab-df-spinner');\n",
              "      try {\n",
              "        const charts = await google.colab.kernel.invokeFunction(\n",
              "            'suggestCharts', [key], {});\n",
              "      } catch (error) {\n",
              "        console.error('Error during call to suggestCharts:', error);\n",
              "      }\n",
              "      quickchartButtonEl.classList.remove('colab-df-spinner');\n",
              "      quickchartButtonEl.classList.add('colab-df-quickchart-complete');\n",
              "    }\n",
              "    (() => {\n",
              "      let quickchartButtonEl =\n",
              "        document.querySelector('#df-de515d7a-556a-4075-8faf-bf3019cd4b9c button');\n",
              "      quickchartButtonEl.style.display =\n",
              "        google.colab.kernel.accessAllowed ? 'block' : 'none';\n",
              "    })();\n",
              "  </script>\n",
              "</div>\n",
              "\n",
              "    </div>\n",
              "  </div>\n"
            ],
            "application/vnd.google.colaboratory.intrinsic+json": {
              "type": "dataframe",
              "variable_name": "dff",
              "summary": "{\n  \"name\": \"dff\",\n  \"rows\": 5572,\n  \"fields\": [\n    {\n      \"column\": \"label\",\n      \"properties\": {\n        \"dtype\": \"number\",\n        \"std\": 0,\n        \"min\": 0,\n        \"max\": 1,\n        \"num_unique_values\": 2,\n        \"samples\": [\n          1,\n          0\n        ],\n        \"semantic_type\": \"\",\n        \"description\": \"\"\n      }\n    },\n    {\n      \"column\": \"text\",\n      \"properties\": {\n        \"dtype\": \"string\",\n        \"num_unique_values\": 5166,\n        \"samples\": [\n          \"yes  sura in sun tv   lol \",\n          \"hi jon  pete here  ive bin 2 spain recently   hav sum dinero left  bill said u or ur \\u00e5\\u00f4rents mayb interested in it  i hav 12 000pes  so around \\u00e5 48  tb  james \"\n        ],\n        \"semantic_type\": \"\",\n        \"description\": \"\"\n      }\n    }\n  ]\n}"
            }
          },
          "metadata": {},
          "execution_count": 92
        }
      ]
    },
    {
      "cell_type": "markdown",
      "source": [
        "##Train-Test Split"
      ],
      "metadata": {
        "id": "AR2sIKQrOA4y"
      }
    },
    {
      "cell_type": "code",
      "source": [
        "X = dff['text']\n",
        "Y = dff['label']\n",
        "X.head()"
      ],
      "metadata": {
        "id": "Lh-8E4ncZ4nT",
        "colab": {
          "base_uri": "https://localhost:8080/",
          "height": 0
        },
        "outputId": "8a7274ff-ade7-4390-cc26-4bb8944055dd"
      },
      "execution_count": 93,
      "outputs": [
        {
          "output_type": "execute_result",
          "data": {
            "text/plain": [
              "0                                                go until jurong point  crazy   available only in bugis n great world la e buffet    cine there got amore wat   \n",
              "1                                                                                                                                  ok lar    joking wif u oni   \n",
              "2    free entry in 2 a wkly comp to win fa cup final tkts 21st may 2005  text fa to 87121 to receive entry question std txt rate t c s apply 08452810075over18 s\n",
              "3                                                                                                              u dun say so early hor    u c already then say   \n",
              "4                                                                                                  nah i don t think he goes to usf  he lives around here though\n",
              "Name: text, dtype: object"
            ],
            "text/html": [
              "<div>\n",
              "<style scoped>\n",
              "    .dataframe tbody tr th:only-of-type {\n",
              "        vertical-align: middle;\n",
              "    }\n",
              "\n",
              "    .dataframe tbody tr th {\n",
              "        vertical-align: top;\n",
              "    }\n",
              "\n",
              "    .dataframe thead th {\n",
              "        text-align: right;\n",
              "    }\n",
              "</style>\n",
              "<table border=\"1\" class=\"dataframe\">\n",
              "  <thead>\n",
              "    <tr style=\"text-align: right;\">\n",
              "      <th></th>\n",
              "      <th>text</th>\n",
              "    </tr>\n",
              "  </thead>\n",
              "  <tbody>\n",
              "    <tr>\n",
              "      <th>0</th>\n",
              "      <td>go until jurong point  crazy   available only in bugis n great world la e buffet    cine there got amore wat</td>\n",
              "    </tr>\n",
              "    <tr>\n",
              "      <th>1</th>\n",
              "      <td>ok lar    joking wif u oni</td>\n",
              "    </tr>\n",
              "    <tr>\n",
              "      <th>2</th>\n",
              "      <td>free entry in 2 a wkly comp to win fa cup final tkts 21st may 2005  text fa to 87121 to receive entry question std txt rate t c s apply 08452810075over18 s</td>\n",
              "    </tr>\n",
              "    <tr>\n",
              "      <th>3</th>\n",
              "      <td>u dun say so early hor    u c already then say</td>\n",
              "    </tr>\n",
              "    <tr>\n",
              "      <th>4</th>\n",
              "      <td>nah i don t think he goes to usf  he lives around here though</td>\n",
              "    </tr>\n",
              "  </tbody>\n",
              "</table>\n",
              "</div><br><label><b>dtype:</b> object</label>"
            ]
          },
          "metadata": {},
          "execution_count": 93
        }
      ]
    },
    {
      "cell_type": "code",
      "source": [
        "Y.head()"
      ],
      "metadata": {
        "id": "J4f276rcetKM",
        "colab": {
          "base_uri": "https://localhost:8080/",
          "height": 0
        },
        "outputId": "2aa18e39-8ff7-4b79-940e-ae69dededd35"
      },
      "execution_count": 94,
      "outputs": [
        {
          "output_type": "execute_result",
          "data": {
            "text/plain": [
              "0    0\n",
              "1    0\n",
              "2    1\n",
              "3    0\n",
              "4    0\n",
              "Name: label, dtype: int64"
            ],
            "text/html": [
              "<div>\n",
              "<style scoped>\n",
              "    .dataframe tbody tr th:only-of-type {\n",
              "        vertical-align: middle;\n",
              "    }\n",
              "\n",
              "    .dataframe tbody tr th {\n",
              "        vertical-align: top;\n",
              "    }\n",
              "\n",
              "    .dataframe thead th {\n",
              "        text-align: right;\n",
              "    }\n",
              "</style>\n",
              "<table border=\"1\" class=\"dataframe\">\n",
              "  <thead>\n",
              "    <tr style=\"text-align: right;\">\n",
              "      <th></th>\n",
              "      <th>label</th>\n",
              "    </tr>\n",
              "  </thead>\n",
              "  <tbody>\n",
              "    <tr>\n",
              "      <th>0</th>\n",
              "      <td>0</td>\n",
              "    </tr>\n",
              "    <tr>\n",
              "      <th>1</th>\n",
              "      <td>0</td>\n",
              "    </tr>\n",
              "    <tr>\n",
              "      <th>2</th>\n",
              "      <td>1</td>\n",
              "    </tr>\n",
              "    <tr>\n",
              "      <th>3</th>\n",
              "      <td>0</td>\n",
              "    </tr>\n",
              "    <tr>\n",
              "      <th>4</th>\n",
              "      <td>0</td>\n",
              "    </tr>\n",
              "  </tbody>\n",
              "</table>\n",
              "</div><br><label><b>dtype:</b> int64</label>"
            ]
          },
          "metadata": {},
          "execution_count": 94
        }
      ]
    },
    {
      "cell_type": "code",
      "source": [
        "# splitting the data into 70% - 30% train test\n",
        "X_train, X_test, Y_train, Y_test = train_test_split(X, Y, test_size=0.3, random_state=3)"
      ],
      "metadata": {
        "id": "Fkey85wefBMi"
      },
      "execution_count": 95,
      "outputs": []
    },
    {
      "cell_type": "code",
      "source": [
        "#changing the data type of labels to int\n",
        "Y_train = Y_train.astype('int')\n",
        "Y_test = Y_test.astype('int')"
      ],
      "metadata": {
        "id": "NvftX1wbglAK"
      },
      "execution_count": 96,
      "outputs": []
    },
    {
      "cell_type": "markdown",
      "source": [
        "##Feature-Extraction"
      ],
      "metadata": {
        "id": "Tp9eKIePPmx0"
      }
    },
    {
      "cell_type": "code",
      "source": [
        "#using TfIdVectorizer as a feature extractor as it assigns score to each text  in the emails\n",
        "feature_extraction = TfidfVectorizer(min_df = 1, stop_words='english')\n",
        "\n",
        "X_train_extracted = feature_extraction.fit_transform(X_train)\n",
        "X_test_extracted = feature_extraction.transform(X_test)"
      ],
      "metadata": {
        "id": "_D9hFEXnf88F"
      },
      "execution_count": 97,
      "outputs": []
    },
    {
      "cell_type": "markdown",
      "source": [
        "##Model Fitting(Logistic)"
      ],
      "metadata": {
        "id": "9bYNs2T6PuiA"
      }
    },
    {
      "cell_type": "code",
      "source": [
        "#using the simple logistic regression model\n",
        "model = LogisticRegression()"
      ],
      "metadata": {
        "id": "jfg7Uy-Fg34S"
      },
      "execution_count": 98,
      "outputs": []
    },
    {
      "cell_type": "code",
      "source": [
        "model.fit(X_train_extracted, Y_train)\n",
        "model.get_params()"
      ],
      "metadata": {
        "id": "GpUTwaDUhYBw",
        "colab": {
          "base_uri": "https://localhost:8080/"
        },
        "outputId": "7e367ecc-a4e7-49fb-d06e-fd75ca08c92d"
      },
      "execution_count": 99,
      "outputs": [
        {
          "output_type": "execute_result",
          "data": {
            "text/plain": [
              "{'C': 1.0,\n",
              " 'class_weight': None,\n",
              " 'dual': False,\n",
              " 'fit_intercept': True,\n",
              " 'intercept_scaling': 1,\n",
              " 'l1_ratio': None,\n",
              " 'max_iter': 100,\n",
              " 'multi_class': 'auto',\n",
              " 'n_jobs': None,\n",
              " 'penalty': 'l2',\n",
              " 'random_state': None,\n",
              " 'solver': 'lbfgs',\n",
              " 'tol': 0.0001,\n",
              " 'verbose': 0,\n",
              " 'warm_start': False}"
            ]
          },
          "metadata": {},
          "execution_count": 99
        }
      ]
    },
    {
      "cell_type": "code",
      "source": [
        "#accuracy test on training 70% data\n",
        "predicted_train = model.predict(X_train_extracted)\n",
        "train_accuracy = accuracy_score(Y_train, predicted_train)\n",
        "print('Accuracy of training data: ', train_accuracy)"
      ],
      "metadata": {
        "id": "wYMx5ZQeiztd",
        "colab": {
          "base_uri": "https://localhost:8080/"
        },
        "outputId": "0d77a49f-98e0-4aaf-93ad-da0483bf9221"
      },
      "execution_count": 100,
      "outputs": [
        {
          "output_type": "stream",
          "name": "stdout",
          "text": [
            "Accuracy of training data:  0.9638461538461538\n"
          ]
        }
      ]
    },
    {
      "cell_type": "markdown",
      "source": [
        "##Accuracy on test data"
      ],
      "metadata": {
        "id": "GIpdG2-8P4ti"
      }
    },
    {
      "cell_type": "code",
      "source": [
        "#accuracy on the basis of 30% unseen test data\n",
        "predicted_test = model.predict(X_test_extracted)\n",
        "test_accuracy = accuracy_score(Y_test, predicted_test)\n",
        "print('Accuracy of test data : ', test_accuracy)"
      ],
      "metadata": {
        "id": "H7LufBE0jIWX",
        "colab": {
          "base_uri": "https://localhost:8080/"
        },
        "outputId": "ffa24f8e-02e5-4ea1-a81c-17d153fbc3ea"
      },
      "execution_count": 101,
      "outputs": [
        {
          "output_type": "stream",
          "name": "stdout",
          "text": [
            "Accuracy of test data :  0.9617224880382775\n"
          ]
        }
      ]
    },
    {
      "cell_type": "markdown",
      "source": [
        "##Confusion-Matrix"
      ],
      "metadata": {
        "id": "_mLf3s2FQBHZ"
      }
    },
    {
      "cell_type": "code",
      "source": [
        "#confusion matrix for the test results\n",
        "cm = confusion_matrix(Y_test, predicted_test)\n",
        "print(\"Confusion Matrix:\")\n",
        "print(cm)\n",
        "\n",
        "# Printing the Classification Report\n",
        "print(classification_report(Y_test, predicted_test))\n",
        "\n",
        "# Plotting Confusion Matrix\n",
        "plt.figure(figsize=(8, 6))\n",
        "sns.heatmap(cm, annot=True, fmt='d', cmap='Blues')\n",
        "plt.xlabel('Predicted')\n",
        "plt.ylabel('True')\n",
        "plt.title('Confusion Matrix')\n",
        "plt.show()"
      ],
      "metadata": {
        "colab": {
          "base_uri": "https://localhost:8080/",
          "height": 0
        },
        "id": "19pITBBzq7Yg",
        "outputId": "be08ade8-ebd1-4833-c96f-5af180bbddc6"
      },
      "execution_count": 102,
      "outputs": [
        {
          "output_type": "stream",
          "name": "stdout",
          "text": [
            "Confusion Matrix:\n",
            "[[1428    1]\n",
            " [  63  180]]\n",
            "              precision    recall  f1-score   support\n",
            "\n",
            "           0       0.96      1.00      0.98      1429\n",
            "           1       0.99      0.74      0.85       243\n",
            "\n",
            "    accuracy                           0.96      1672\n",
            "   macro avg       0.98      0.87      0.91      1672\n",
            "weighted avg       0.96      0.96      0.96      1672\n",
            "\n"
          ]
        },
        {
          "output_type": "display_data",
          "data": {
            "text/plain": [
              "<Figure size 800x600 with 2 Axes>"
            ],
            "image/png": "[encoded data removed]"
          },
          "metadata": {}
        }
      ]
    },
    {
      "cell_type": "markdown",
      "source": [
        "#METHOD__2"
      ],
      "metadata": {
        "id": "Z4hTaY6-NEIb"
      }
    },
    {
      "cell_type": "markdown",
      "source": [
        "#importing libraries and importing data"
      ],
      "metadata": {
        "id": "v5MJ54V7TRq2"
      }
    },
    {
      "cell_type": "code",
      "source": [
        "import pandas as pd\n",
        "import numpy as np\n",
        "import matplotlib.pyplot as plt\n",
        "import seaborn as sns\n",
        "from sklearn.model_selection import train_test_split\n",
        "from sklearn.feature_extraction.text import TfidfVectorizer\n",
        "from sklearn.naive_bayes import MultinomialNB\n",
        "from sklearn.metrics import accuracy_score, confusion_matrix, classification_report\n",
        "dp = pd.read_csv(\"spam.csv\", encoding='latin1')"
      ],
      "metadata": {
        "id": "J1J5nwavRXcJ"
      },
      "execution_count": 70,
      "outputs": []
    },
    {
      "cell_type": "markdown",
      "source": [
        "#Data-Preprocessing"
      ],
      "metadata": {
        "id": "b2gQUjczToOB"
      }
    },
    {
      "cell_type": "code",
      "source": [
        "# Preprocess data\n",
        "dp = dp[['v1', 'v2']]\n",
        "dp.columns = ['label', 'message']\n",
        "dp['label'] = dp['label'].map({'ham': 0, 'spam': 1})\n",
        "dp['message'] = dp['message'].str.lower()\n"
      ],
      "metadata": {
        "id": "ReewA-FiSzv-"
      },
      "execution_count": 71,
      "outputs": []
    },
    {
      "cell_type": "markdown",
      "source": [
        "#Train-Test Split"
      ],
      "metadata": {
        "id": "pHFRlAgDTuec"
      }
    },
    {
      "cell_type": "code",
      "source": [
        "# Split dataset into training and testing sets\n",
        "X_train, X_test, Y_train, Y_test = train_test_split(dp['message'], dp['label'], test_size=0.3, random_state=3)\n"
      ],
      "metadata": {
        "id": "oOixH8NFS3wt"
      },
      "execution_count": 72,
      "outputs": []
    },
    {
      "cell_type": "markdown",
      "source": [
        "#Feature-Extraction"
      ],
      "metadata": {
        "id": "7DBOptgcT0DH"
      }
    },
    {
      "cell_type": "code",
      "source": [
        "# Feature extraction using TF-IDF\n",
        "vectorizer = TfidfVectorizer(min_df=1, stop_words='english')\n",
        "X_train_tfidf = vectorizer.fit_transform(X_train)\n",
        "X_test_tfidf = vectorizer.transform(X_test)\n"
      ],
      "metadata": {
        "id": "Apbdl2ZIS7QF"
      },
      "execution_count": 73,
      "outputs": []
    },
    {
      "cell_type": "markdown",
      "source": [
        "#model-fitting"
      ],
      "metadata": {
        "id": "t0DN-do1T5dB"
      }
    },
    {
      "cell_type": "code",
      "source": [
        "# Initialize and train Multinomial Naive Bayes model\n",
        "nb_model = MultinomialNB()\n",
        "nb_model.fit(X_train_tfidf, Y_train)"
      ],
      "metadata": {
        "colab": {
          "base_uri": "https://localhost:8080/",
          "height": 0
        },
        "id": "WBRcme8dS-2-",
        "outputId": "50dc517e-ee30-4168-93f0-8b89c2272a35"
      },
      "execution_count": 74,
      "outputs": [
        {
          "output_type": "execute_result",
          "data": {
            "text/plain": [
              "MultinomialNB()"
            ],
            "text/html": [
              "<style>#sk-container-id-2 {color: black;}#sk-container-id-2 pre{padding: 0;}#sk-container-id-2 div.sk-toggleable {background-color: white;}#sk-container-id-2 label.sk-toggleable__label {cursor: pointer;display: block;width: 100%;margin-bottom: 0;padding: 0.3em;box-sizing: border-box;text-align: center;}#sk-container-id-2 label.sk-toggleable__label-arrow:before {content: \"▸\";float: left;margin-right: 0.25em;color: #696969;}#sk-container-id-2 label.sk-toggleable__label-arrow:hover:before {color: black;}#sk-container-id-2 div.sk-estimator:hover label.sk-toggleable__label-arrow:before {color: black;}#sk-container-id-2 div.sk-toggleable__content {max-height: 0;max-width: 0;overflow: hidden;text-align: left;background-color: #f0f8ff;}#sk-container-id-2 div.sk-toggleable__content pre {margin: 0.2em;color: black;border-radius: 0.25em;background-color: #f0f8ff;}#sk-container-id-2 input.sk-toggleable__control:checked~div.sk-toggleable__content {max-height: 200px;max-width: 100%;overflow: auto;}#sk-container-id-2 input.sk-toggleable__control:checked~label.sk-toggleable__label-arrow:before {content: \"▾\";}#sk-container-id-2 div.sk-estimator input.sk-toggleable__control:checked~label.sk-toggleable__label {background-color: #d4ebff;}#sk-container-id-2 div.sk-label input.sk-toggleable__control:checked~label.sk-toggleable__label {background-color: #d4ebff;}#sk-container-id-2 input.sk-hidden--visually {border: 0;clip: rect(1px 1px 1px 1px);clip: rect(1px, 1px, 1px, 1px);height: 1px;margin: -1px;overflow: hidden;padding: 0;position: absolute;width: 1px;}#sk-container-id-2 div.sk-estimator {font-family: monospace;background-color: #f0f8ff;border: 1px dotted black;border-radius: 0.25em;box-sizing: border-box;margin-bottom: 0.5em;}#sk-container-id-2 div.sk-estimator:hover {background-color: #d4ebff;}#sk-container-id-2 div.sk-parallel-item::after {content: \"\";width: 100%;border-bottom: 1px solid gray;flex-grow: 1;}#sk-container-id-2 div.sk-label:hover label.sk-toggleable__label {background-color: #d4ebff;}#sk-container-id-2 div.sk-serial::before {content: \"\";position: absolute;border-left: 1px solid gray;box-sizing: border-box;top: 0;bottom: 0;left: 50%;z-index: 0;}#sk-container-id-2 div.sk-serial {display: flex;flex-direction: column;align-items: center;background-color: white;padding-right: 0.2em;padding-left: 0.2em;position: relative;}#sk-container-id-2 div.sk-item {position: relative;z-index: 1;}#sk-container-id-2 div.sk-parallel {display: flex;align-items: stretch;justify-content: center;background-color: white;position: relative;}#sk-container-id-2 div.sk-item::before, #sk-container-id-2 div.sk-parallel-item::before {content: \"\";position: absolute;border-left: 1px solid gray;box-sizing: border-box;top: 0;bottom: 0;left: 50%;z-index: -1;}#sk-container-id-2 div.sk-parallel-item {display: flex;flex-direction: column;z-index: 1;position: relative;background-color: white;}#sk-container-id-2 div.sk-parallel-item:first-child::after {align-self: flex-end;width: 50%;}#sk-container-id-2 div.sk-parallel-item:last-child::after {align-self: flex-start;width: 50%;}#sk-container-id-2 div.sk-parallel-item:only-child::after {width: 0;}#sk-container-id-2 div.sk-dashed-wrapped {border: 1px dashed gray;margin: 0 0.4em 0.5em 0.4em;box-sizing: border-box;padding-bottom: 0.4em;background-color: white;}#sk-container-id-2 div.sk-label label {font-family: monospace;font-weight: bold;display: inline-block;line-height: 1.2em;}#sk-container-id-2 div.sk-label-container {text-align: center;}#sk-container-id-2 div.sk-container {/* jupyter's `normalize.less` sets `[hidden] { display: none; }` but bootstrap.min.css set `[hidden] { display: none !important; }` so we also need the `!important` here to be able to override the default hidden behavior on the sphinx rendered scikit-learn.org. See: https://github.com/scikit-learn/scikit-learn/issues/21755 */display: inline-block !important;position: relative;}#sk-container-id-2 div.sk-text-repr-fallback {display: none;}</style><div id=\"sk-container-id-2\" class=\"sk-top-container\"><div class=\"sk-text-repr-fallback\"><pre>MultinomialNB()</pre><b>In a Jupyter environment, please rerun this cell to show the HTML representation or trust the notebook. <br />On GitHub, the HTML representation is unable to render, please try loading this page with nbviewer.org.</b></div><div class=\"sk-container\" hidden><div class=\"sk-item\"><div class=\"sk-estimator sk-toggleable\"><input class=\"sk-toggleable__control sk-hidden--visually\" id=\"sk-estimator-id-2\" type=\"checkbox\" checked><label for=\"sk-estimator-id-2\" class=\"sk-toggleable__label sk-toggleable__label-arrow\">MultinomialNB</label><div class=\"sk-toggleable__content\"><pre>MultinomialNB()</pre></div></div></div></div></div>"
            ]
          },
          "metadata": {},
          "execution_count": 74
        }
      ]
    },
    {
      "cell_type": "code",
      "source": [
        "\n",
        "# Predict and evaluate model\n",
        "Y_train_pred = nb_model.predict(X_train_tfidf)\n",
        "Y_test_pred = nb_model.predict(X_test_tfidf)"
      ],
      "metadata": {
        "id": "CUM0PZO_TBmJ"
      },
      "execution_count": 75,
      "outputs": []
    },
    {
      "cell_type": "markdown",
      "source": [
        "#accuracy"
      ],
      "metadata": {
        "id": "7KJid4PXW55Z"
      }
    },
    {
      "cell_type": "code",
      "source": [
        "# Accuracy\n",
        "train_accuracy = accuracy_score(Y_train, Y_train_pred)\n",
        "test_accuracy = accuracy_score(Y_test, Y_test_pred)\n",
        "\n",
        "print(f'Train Accuracy: {train_accuracy}')\n",
        "print(f'Test Accuracy: {test_accuracy}')"
      ],
      "metadata": {
        "colab": {
          "base_uri": "https://localhost:8080/"
        },
        "id": "JoJy_7uUTF9L",
        "outputId": "d22e731a-c6a9-4460-a612-c120604d82c1"
      },
      "execution_count": 76,
      "outputs": [
        {
          "output_type": "stream",
          "name": "stdout",
          "text": [
            "Train Accuracy: 0.9823076923076923\n",
            "Test Accuracy: 0.9694976076555024\n"
          ]
        }
      ]
    },
    {
      "cell_type": "markdown",
      "source": [
        "#confusion-matrix"
      ],
      "metadata": {
        "id": "rgjOApjsW9qA"
      }
    },
    {
      "cell_type": "code",
      "source": [
        "# Confusion matrix\n",
        "cm = confusion_matrix(Y_test, Y_test_pred)\n",
        "print(\"Confusion Matrix:\")\n",
        "print(cm)\n",
        "sns.heatmap(cm, annot=True, fmt='d', cmap='Blues')\n",
        "plt.xlabel('Predicted')\n",
        "plt.ylabel('True')\n",
        "plt.title('Confusion Matrix - Multinomial Naive Bayes')\n",
        "plt.show()\n",
        "\n",
        "# Classification report\n",
        "print(classification_report(Y_test, Y_test_pred))"
      ],
      "metadata": {
        "colab": {
          "base_uri": "https://localhost:8080/",
          "height": 680
        },
        "id": "3qjrkpdtTJzB",
        "outputId": "4f82bef3-ca29-4353-b52a-3f186139eb57"
      },
      "execution_count": 77,
      "outputs": [
        {
          "output_type": "stream",
          "name": "stdout",
          "text": [
            "Confusion Matrix:\n",
            "[[1429    0]\n",
            " [  51  192]]\n"
          ]
        },
        {
          "output_type": "display_data",
          "data": {
            "text/plain": [
              "<Figure size 640x480 with 2 Axes>"
            ],
            "image/png": "[encoded data removed]"
          },
          "metadata": {}
        },
        {
          "output_type": "stream",
          "name": "stdout",
          "text": [
            "              precision    recall  f1-score   support\n",
            "\n",
            "           0       0.97      1.00      0.98      1429\n",
            "           1       1.00      0.79      0.88       243\n",
            "\n",
            "    accuracy                           0.97      1672\n",
            "   macro avg       0.98      0.90      0.93      1672\n",
            "weighted avg       0.97      0.97      0.97      1672\n",
            "\n"
          ]
        }
      ]
    },
    {
      "cell_type": "markdown",
      "source": [
        "#Comparison"
      ],
      "metadata": {
        "id": "oKyTWFFRSW_m"
      }
    },
    {
      "cell_type": "code",
      "source": [
        "\"\"\"The email spam classification results show that the Multinomial\n",
        "Naive Bayes classifier outperformed the Logistic Regression model.\n",
        "The Naive Bayes model achieved a higher training accuracy of 98.23% and\n",
        "test accuracy of 96.95%, compared to Logistic Regression's 96.38%\n",
        "training accuracy and 96.17% test accuracy. The confusion matrix for\n",
        "Naive Bayes indicates perfect classification for non-spam emails, with 0 false\n",
        "positives, and a better precision score for spam detection (100%).\n",
        "However, Logistic Regression showed a slightly better handling of spam recall,\n",
        "albeit with a lower precision. Both models demonstrated high performance, but\n",
        "Naive Bayes had a slight edge in overall accuracy and spam detection precision.\"\"\""
      ],
      "metadata": {
        "colab": {
          "base_uri": "https://localhost:8080/",
          "height": 0
        },
        "id": "NwQAWWgUSaSa",
        "outputId": "47cf3112-a641-4d1b-bd45-8f2319258597"
      },
      "execution_count": 78,
      "outputs": [
        {
          "output_type": "execute_result",
          "data": {
            "text/plain": [
              "\"The email spam classification results show that the Multinomial\\nNaive Bayes classifier outperformed the Logistic Regression model. \\nThe Naive Bayes model achieved a higher training accuracy of 98.23% and \\ntest accuracy of 96.95%, compared to Logistic Regression's 96.38% \\ntraining accuracy and 96.17% test accuracy. The confusion matrix for \\nNaive Bayes indicates perfect classification for non-spam emails, with 0 false\\npositives, and a better precision score for spam detection (100%).\\nHowever, Logistic Regression showed a slightly better handling of spam recall, \\nalbeit with a lower precision. Both models demonstrated high performance, but\\nNaive Bayes had a slight edge in overall accuracy and spam detection precision.\""
            ],
            "application/vnd.google.colaboratory.intrinsic+json": {
              "type": "string"
            }
          },
          "metadata": {},
          "execution_count": 78
        }
      ]
    }
  ]
}